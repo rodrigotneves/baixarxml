{
 "cells": [
  {
   "cell_type": "code",
   "execution_count": 19,
   "metadata": {},
   "outputs": [],
   "source": [
    "import pyautogui\n",
    "import os\n",
    "import time\n",
    "import pandas as pd\n",
    "import random\n",
    "\n",
    "# Pasta da tabelas com as chaves das notas fiscais\n",
    "pasta_documentos = 'documentos'\n",
    "\n",
    "# Pasta onde os xml das notas fiscais serão salvas\n",
    "pasta_xml_notas = os.path.join(pasta_documentos, 'xml_notas_recebidas')\n",
    "\n",
    "# Ler a tabela com as chaves das notas fiscais\n",
    "tabela = pd.read_excel(os.path.join(pasta_documentos, 'nfs_recebidas.xlsx'))\n",
    "\n"
   ]
  },
  {
   "cell_type": "code",
   "execution_count": 2,
   "metadata": {},
   "outputs": [
    {
     "name": "stdout",
     "output_type": "stream",
     "text": [
      "<class 'pandas.core.frame.DataFrame'>\n",
      "RangeIndex: 604 entries, 0 to 603\n",
      "Data columns (total 9 columns):\n",
      " #   Column                     Non-Null Count  Dtype  \n",
      "---  ------                     --------------  -----  \n",
      " 0   Numero NF-e                604 non-null    object \n",
      " 1   CNPJ/CPF Destinatario      604 non-null    object \n",
      " 2   Razao Social Destinatario  604 non-null    object \n",
      " 3   Data de Emissao            604 non-null    object \n",
      " 4   Valor (R$)                 604 non-null    float64\n",
      " 5   UF Dest.                   604 non-null    object \n",
      " 6   Situacao                   604 non-null    object \n",
      " 7   Tipo Operacao              604 non-null    object \n",
      " 8   Chave                      604 non-null    object \n",
      "dtypes: float64(1), object(8)\n",
      "memory usage: 42.6+ KB\n"
     ]
    }
   ],
   "source": [
    "tabela.info()"
   ]
  },
  {
   "cell_type": "code",
   "execution_count": 20,
   "metadata": {},
   "outputs": [],
   "source": [
    "lista_chaves = tabela['Chave'].tolist()"
   ]
  },
  {
   "cell_type": "code",
   "execution_count": 9,
   "metadata": {},
   "outputs": [
    {
     "name": "stdout",
     "output_type": "stream",
     "text": [
      "Posicione o mouse no botão \"Nova Consulta\" e aguarde 5 segundos\n",
      "Point(x=685, y=208)\n"
     ]
    }
   ],
   "source": [
    "# encontrar posicao do nova consulta, clicando e lendo a posicao do mouse\n",
    "print('Posicione o mouse no botão \"Nova Consulta\" e aguarde 5 segundos')\n",
    "time.sleep(5)\n",
    "posicao = pyautogui.position()\n",
    "print(posicao)\n"
   ]
  },
  {
   "cell_type": "code",
   "execution_count": null,
   "metadata": {},
   "outputs": [],
   "source": [
    "# posição dos botões\n",
    "\n",
    "posicao_nova_consulta = pyautogui.position(x=556, y=400)\n",
    "posicao_download_documento = pyautogui.position(x=753, y=400)\n",
    "posicao_ok_download = pyautogui.position(x=1036, y=244)\n",
    "posicao_botao_salvar_xml = pyautogui.position(x=782, y=501)\n",
    "posicao_caixa_texto_chave = pyautogui.position(x=696, y=437)\n",
    "posicao_nao_sou_humano = pyautogui.position(x=714, y=493)\n",
    "posicao_botao_continuar = pyautogui.position(x=796, y=557)\n",
    "\n",
    "# Percorrer lista de chaves, para cada chave, modular para o navegador, clicar nova consulta, digitar a chave, clicar em consultar, download do documento\n",
    "baixadas = []\n",
    "\n",
    "# erros = ['42422402416068660001285500100000131118083182', '32352403373524034535243524034540439000010153', '29422401024412480001135500262442240113028128']\n",
    "\n",
    "for arquivo in os.listdir(pasta_xml_notas):\n",
    "    chave = arquivo.split('.')[0]\n",
    "    baixadas.append(chave)\n",
    "    # for erro in erros:\n",
    "    #     baixadas.append(erro)\n",
    "\n",
    "pyautogui.hotkey('alt', 'tab')\n",
    "\n",
    "for chave in lista_chaves:\n",
    "    if chave in baixadas:\n",
    "        continue\n",
    "    time.sleep(1)\n",
    "    pyautogui.moveTo(posicao_nova_consulta)\n",
    "    time.sleep(1)\n",
    "    pyautogui.click()\n",
    "    # pyautogui.click(posicao_nova_consulta)\n",
    "    pyautogui.moveTo(posicao_caixa_texto_chave)\n",
    "    time.sleep(6)\n",
    "    pyautogui.doubleClick()\n",
    "    time.sleep(1)\n",
    "    pyautogui.doubleClick()\n",
    "    time.sleep(1)\n",
    "    # pyautogui.doubleClick(posicao_caixa_texto_chave)\n",
    "    pyautogui.write(chave)\n",
    "    pyautogui.moveTo(posicao_nao_sou_humano)\n",
    "    time.sleep(random.randint(4, 6))\n",
    "    pyautogui.click(duration=0.25)\n",
    "    time.sleep(2)\n",
    "    pyautogui.click()\n",
    "    # pyautogui.click(posicao_nao_sou_humano)\n",
    "    pyautogui.moveTo(posicao_botao_continuar)\n",
    "    time.sleep(random.randint(4, 6))\n",
    "    pyautogui.click()\n",
    "    # pyautogui.click(posicao_botao_continuar)\n",
    "    pyautogui.moveTo(posicao_download_documento)\n",
    "    time.sleep(5)\n",
    "    pyautogui.click()\n",
    "    # pyautogui.click(posicao_download_documento)\n",
    "    pyautogui.moveTo(posicao_ok_download)\n",
    "    time.sleep(3)\n",
    "    pyautogui.click()\n",
    "    # pyautogui.click(posicao_ok_download)\n",
    "    pyautogui.moveTo(posicao_botao_salvar_xml)\n",
    "    time.sleep(3)\n",
    "    pyautogui.click()\n",
    "    pyautogui.click(posicao_botao_salvar_xml)\n"
   ]
  }
 ],
 "metadata": {
  "kernelspec": {
   "display_name": ".venv",
   "language": "python",
   "name": "python3"
  },
  "language_info": {
   "codemirror_mode": {
    "name": "ipython",
    "version": 3
   },
   "file_extension": ".py",
   "mimetype": "text/x-python",
   "name": "python",
   "nbconvert_exporter": "python",
   "pygments_lexer": "ipython3",
   "version": "3.12.1"
  }
 },
 "nbformat": 4,
 "nbformat_minor": 2
}
